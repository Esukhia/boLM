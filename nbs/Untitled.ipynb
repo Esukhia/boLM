{
 "cells": [
  {
   "cell_type": "code",
   "execution_count": 5,
   "metadata": {},
   "outputs": [],
   "source": [
    "from pathlib import Path\n",
    "\n",
    "from fastai2.text.all import *\n",
    "from fastai2.basics import *\n",
    "from fastai2.callback.all import *\n",
    "\n",
    "\n",
    "# Paths\n",
    "corpus_path = Path('../.bonltk/data/corpora/test-corpus')\n",
    "tokenizer_models_path = Path('../.bonltk/models/tokenizers')\n",
    "lm_path = Path('../.bonltk/models/lm')\n",
    "lm_path.mkdir(exist_ok=True, parents=True)\n",
    "\n",
    "seq_len = 150\n",
    "seed = 43\n",
    "valid_pct = 0.1\n",
    "\n",
    "\n",
    "# Create Vocab\n",
    "cls_ug_tok_fn = tokenizer_models_path/'classical-unigram.model'\n",
    "cls_ug_tok = get_tokenizer(tok_func=SentencePieceTokenizer, lang='bo', sp_model=cls_ug_tok_fn)\n",
    "\n",
    "vocab = [cls_ug_tok.tok.IdToPiece(int(i)) for i in range(30000)]\n",
    "vocab[0] = 'xxunk'"
   ]
  },
  {
   "cell_type": "code",
   "execution_count": null,
   "metadata": {},
   "outputs": [],
   "source": [
    "dls = TextDataLoaders.from_folder(\n",
    "    corpus_path,\n",
    "    valid_pct=valid_pct, \n",
    "    seed=seed,\n",
    "    text_vocab=vocab,\n",
    "    is_lm=True,\n",
    "    tok_tfm=Tokenizer(cls_ug_tok, rules=[]),\n",
    "    seq_len=seq_len\n",
    ")"
   ]
  },
  {
   "cell_type": "code",
   "execution_count": null,
   "metadata": {},
   "outputs": [],
   "source": [
    "dls.show_batch(max_n=5)"
   ]
  }
 ],
 "metadata": {
  "kernelspec": {
   "display_name": "Python 3",
   "language": "python",
   "name": "python3"
  },
  "language_info": {
   "codemirror_mode": {
    "name": "ipython",
    "version": 3
   },
   "file_extension": ".py",
   "mimetype": "text/x-python",
   "name": "python",
   "nbconvert_exporter": "python",
   "pygments_lexer": "ipython3",
   "version": "3.6.9"
  }
 },
 "nbformat": 4,
 "nbformat_minor": 4
}
