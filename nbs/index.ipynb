{
 "cells": [
  {
   "cell_type": "code",
   "execution_count": null,
   "metadata": {},
   "outputs": [],
   "source": [
    "#hide\n",
    "from bonltk.core import *"
   ]
  },
  {
   "cell_type": "markdown",
   "metadata": {},
   "source": [
    "# Natural Language Toolkit for Boyig (BoNLTK)\n",
    "\n",
    "> BoNLTK aims to provide out of the box support for various NLP tasks that an application developer might need for Boyig (TIbetan) language."
   ]
  },
  {
   "cell_type": "markdown",
   "metadata": {},
   "source": [
    "## Install"
   ]
  },
  {
   "cell_type": "markdown",
   "metadata": {},
   "source": [
    "`pip install bonltk`"
   ]
  },
  {
   "cell_type": "markdown",
   "metadata": {},
   "source": [
    "## How to use\n",
    "\n",
    "Comming soon"
   ]
  },
  {
   "cell_type": "markdown",
   "metadata": {},
   "source": [
    "## Todo:\n",
    " - Tokenizers:\n",
    "    - [ ] Hugging face [tokenizers](https://github.com/huggingface/tokenizers/tree/master/bindings/python)\n",
    "    - [x] [sentencepiece tokenizer](https://github.com/google/sentencepiece/tree/master/python)\n",
    "    - [ ] Compare above tokenizers with [botok](https://github.com/esukhia/botok)\n",
    " - WordVectors:\n",
    "    - [x] Word2Vec with [gensim](https://github.com/RaRe-Technologies/gensim)\n",
    "    - [ ] Emlo\n",
    " - Language Models:\n",
    "    - [ ] Huggingface [transformers](https://github.com/huggingface/transformers)\n",
    "    - [ ] UMLFit Language model with [fastai](https://forums.fast.ai/t/language-model-zoo-gorilla/14623)\n",
    "\n",
    "- Text Similarity:\n",
    "    - [ ] Sentence similarity using UMLFit, like in [inltk](https://github.com/goru001/inltk/blob/e6baa7f03164e977da899548a5c6e42a2a60db77/inltk/inltk.py#L120)\n",
    "    - [ ] Implement Text similarity techniques mention in [here]((https://medium.com/@adriensieg/text-similarities-da019229c894)\n",
    "    - [ ] Compare all the text similarity algorithms\n",
    "\n",
    "### Resrouce links:\n",
    "- [UMLFit for sequence tagging](https://forums.fast.ai/t/ulmfit-for-sequence-tagging/20328)\n",
    "- [Text Similarities : Estimate the degree of similarity between two texts](https://medium.com/@adriensieg/text-similarities-da019229c894)"
   ]
  }
 ],
 "metadata": {
  "kernelspec": {
   "display_name": "Python 3",
   "language": "python",
   "name": "python3"
  }
 },
 "nbformat": 4,
 "nbformat_minor": 0
}
