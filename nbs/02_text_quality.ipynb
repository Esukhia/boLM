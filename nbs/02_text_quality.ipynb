{
 "cells": [
  {
   "cell_type": "code",
   "execution_count": 1,
   "metadata": {},
   "outputs": [],
   "source": [
    "# default_exp text_quality"
   ]
  },
  {
   "cell_type": "code",
   "execution_count": 3,
   "metadata": {},
   "outputs": [],
   "source": [
    "#export\n",
    "from botok import WordTokenizer"
   ]
  },
  {
   "cell_type": "code",
   "execution_count": 4,
   "metadata": {},
   "outputs": [],
   "source": [
    "from nbdev.showdoc import *"
   ]
  },
  {
   "cell_type": "markdown",
   "metadata": {},
   "source": [
    "# Text Quality\n",
    "> Implementation of various algorithms for measuring text quality"
   ]
  },
  {
   "cell_type": "markdown",
   "metadata": {},
   "source": [
    "## Non-word ratio\n",
    "> Ratio of number of non-words to total number of words "
   ]
  },
  {
   "cell_type": "code",
   "execution_count": 51,
   "metadata": {},
   "outputs": [],
   "source": [
    "#export\n",
    "def non_words_ratio(text):\n",
    "    wt = WordTokenizer()\n",
    "    tokens = wt.tokenize(text)\n",
    "    total_words = len(tokens)\n",
    "    n_non_words = 0\n",
    "    \n",
    "    for token in tokens:\n",
    "        if token[\"pos\"] == \"NON_WORD\":\n",
    "            n_non_words += 1\n",
    "    \n",
    "    return round(n_non_words / total_words, 4)"
   ]
  },
  {
   "cell_type": "code",
   "execution_count": 52,
   "metadata": {},
   "outputs": [],
   "source": [
    "text = r\"\"\"ལས་པས། ། སྨྱུག་གྲི་བསྟན་པོས་སོར་ཟུར་བསྟན་པར་བྱ། ། EITITUDDITOITUTDOOUTUDDDDDICTUDD། ། ཞུན་ཐར་ཐོན་པའི་ངར་དང་ལྡན་པར་བྱ། ། ཁ་སྲབ་ལྟག་པ་\n",
    "མཐུག་ལ་དྲང་བགས་གཞོལ། ། རྩེ་དང་སོ་རྣོ་པའི། ། དེ་འདྲའི་སྨྱུག་གྲི་ཡོན་ཏན་ལྡན་པ་དེ། ། འཛིང་ལ་བདར་ལ་ཁ་དོག་གང་ཡང་རུང་། ། ཁ་ཕྱིར་བསྐོར་ཞིང་བསྟན་\n",
    "ལ་ལེགས་པར་\\u། ། ཅུང་ཞིག་བཙུག་ན་འཐུག་ལ་རྣོ་བ་འབྱུང་། ། རྣོ་བའི་ཚད་ནི་གྱེན་ལ་སྤུ་གཞོལ་ནུས། ། དེ་བས་བརྡར་ན་རྡུལ་དུ་འགྲོ་བ་ཡིན། ། དེ་ཡང་མན་\"\"\""
   ]
  },
  {
   "cell_type": "code",
   "execution_count": 53,
   "metadata": {},
   "outputs": [
    {
     "name": "stdout",
     "output_type": "stream",
     "text": [
      "Loading Trie... (1s.)\n"
     ]
    },
    {
     "data": {
      "text/plain": [
       "0.0105"
      ]
     },
     "execution_count": 53,
     "metadata": {},
     "output_type": "execute_result"
    }
   ],
   "source": [
    "non_words_ratio(text)"
   ]
  },
  {
   "cell_type": "code",
   "execution_count": null,
   "metadata": {},
   "outputs": [],
   "source": []
  }
 ],
 "metadata": {
  "kernelspec": {
   "display_name": "Python 3",
   "language": "python",
   "name": "python3"
  },
  "language_info": {
   "codemirror_mode": {
    "name": "ipython",
    "version": 3
   },
   "file_extension": ".py",
   "mimetype": "text/x-python",
   "name": "python",
   "nbconvert_exporter": "python",
   "pygments_lexer": "ipython3",
   "version": "3.8.5"
  }
 },
 "nbformat": 4,
 "nbformat_minor": 4
}
