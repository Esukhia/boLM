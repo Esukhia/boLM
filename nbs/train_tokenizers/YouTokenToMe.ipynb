{
 "cells": [
  {
   "cell_type": "markdown",
   "metadata": {},
   "source": [
    "Notes:\n",
    "-Doesn't support custom token like CLS, MASK, SEP token in BERT like model. Work around is appending this special token in the end of your training text many times (for example 1000), https://github.com/VKCOM/YouTokenToMe/issues/44"
   ]
  },
  {
   "cell_type": "code",
   "execution_count": null,
   "metadata": {},
   "outputs": [],
   "source": [
    ""
   ]
  }
 ],
 "metadata": {
  "kernelspec": {
   "display_name": "Python 3",
   "name": "python3"
  }
 },
 "nbformat": 4,
 "nbformat_minor": 0
}
